{
  "nbformat": 4,
  "nbformat_minor": 0,
  "metadata": {
    "colab": {
      "provenance": []
    },
    "kernelspec": {
      "name": "python3",
      "display_name": "Python 3"
    },
    "language_info": {
      "name": "python"
    }
  },
  "cells": [
    {
      "cell_type": "code",
      "execution_count": 31,
      "metadata": {
        "id": "lhxKnQE1vv2B"
      },
      "outputs": [],
      "source": [
        "import requests\n",
        "from bs4 import BeautifulSoup\n",
        "import pandas as pd"
      ]
    },
    {
      "cell_type": "code",
      "source": [
        "start_url = 'https://www.ertnews.gr/news/eidiseis/ellada/politiki/ekloges-2023/'"
      ],
      "metadata": {
        "id": "rsotdY_r-lmj"
      },
      "execution_count": 32,
      "outputs": []
    },
    {
      "cell_type": "code",
      "source": [
        "response = requests.get(start_url)\n",
        "doc = BeautifulSoup(response.text, 'html.parser')"
      ],
      "metadata": {
        "id": "8NxfdNyq-6tG"
      },
      "execution_count": 33,
      "outputs": []
    },
    {
      "cell_type": "code",
      "source": [
        "doc.find('div', {'class': 'article-list two-columns row wrap start-start'}).find_all('article')"
      ],
      "metadata": {
        "colab": {
          "base_uri": "https://localhost:8080/"
        },
        "id": "IkmMWc0PI-qU",
        "outputId": "c727b56f-0f11-478e-a512-af08aa46e41c"
      },
      "execution_count": 34,
      "outputs": [
        {
          "output_type": "execute_result",
          "data": {
            "text/plain": [
              "[<article class=\"item post-thumb post\" id=\"post-3661601\">\n",
              " <div class=\"post-image mb-05\">\n",
              " <a href=\"https://www.ertnews.gr/eidiseis/ellada/politiki/ekloges-2023-ypologiste-monoi-sas-tis-edres-tis-25is-iouniou-to-ertnews-gr-sas-deixnei-ton-tropo/\" style=\"background-image:url('https://www.ertnews.gr/wp-content/uploads/2023/05/COMBO_EDRES_2-768x432.jpg');\" title=\"Εκλογές 2023: Υπολογίστε μόνοι σας τις έδρες της 25ης Ιουνίου – Το ertnews.gr σάς δείχνει τον τρόπο\"></a>\n",
              " </div>\n",
              " <div class=\"post-content\">\n",
              " <div class=\"post-title h4 m-0\">\n",
              " <a href=\"https://www.ertnews.gr/eidiseis/ellada/politiki/ekloges-2023-ypologiste-monoi-sas-tis-edres-tis-25is-iouniou-to-ertnews-gr-sas-deixnei-ton-tropo/\" title=\"Εκλογές 2023: Υπολογίστε μόνοι σας τις έδρες της 25ης Ιουνίου – Το ertnews.gr σάς δείχνει τον τρόπο\">Εκλογές 2023: Υπολογίστε μόνοι σας τις έδρες της 25ης Ιουνίου – Το ertnews.gr σάς δείχνει τον τρόπο</a>\n",
              " </div>\n",
              " <small class=\"post-info row wrap\">\n",
              " <time class=\"entry-date published mute-text\" datetime=\"2023-05-27T12:49:36+03:00\" itemprop=\"datePublished\">27/05 12:49 μμ</time>\n",
              " </small>\n",
              " </div>\n",
              " </article>,\n",
              " <article class=\"item post-thumb post\" id=\"post-3661600\">\n",
              " <div class=\"post-image mb-05\">\n",
              " <a href=\"https://www.ertnews.gr/roi-idiseon/nikos-androulakis-krataei-tin-edra-stin-a-thessalonikis-tha-epistrepsei-ston-x-kastanidi-meta-tis-ekloges-tis-25is-iouniou/\" style=\"background-image:url('https://www.ertnews.gr/wp-content/uploads/2023/05/27172424-768x512.jpg');\" title=\"Νίκος Ανδρουλάκης: Κρατάει την έδρα στην Α΄ Θεσσαλονίκης – Θα «επιστρέψει» στον Χ. Καστανίδη μετά τις εκλογές της 25ης Ιουνίου\"></a>\n",
              " </div>\n",
              " <div class=\"post-content\">\n",
              " <div class=\"post-title h4 m-0\">\n",
              " <a href=\"https://www.ertnews.gr/roi-idiseon/nikos-androulakis-krataei-tin-edra-stin-a-thessalonikis-tha-epistrepsei-ston-x-kastanidi-meta-tis-ekloges-tis-25is-iouniou/\" title=\"Νίκος Ανδρουλάκης: Κρατάει την έδρα στην Α΄ Θεσσαλονίκης – Θα «επιστρέψει» στον Χ. Καστανίδη μετά τις εκλογές της 25ης Ιουνίου\">Νίκος Ανδρουλάκης: Κρατάει την έδρα στην Α΄ Θεσσαλονίκης – Θα «επιστρέψει» στον Χ. Καστανίδη μετά τις εκλογές της 25ης Ιουνίου</a>\n",
              " </div>\n",
              " <small class=\"post-info row wrap\">\n",
              " <time class=\"entry-date published mute-text\" datetime=\"2023-05-27T12:40:36+03:00\" itemprop=\"datePublished\">27/05 12:40 μμ</time>\n",
              " </small>\n",
              " </div>\n",
              " </article>,\n",
              " <article class=\"item post-thumb post\" id=\"post-3661591\">\n",
              " <div class=\"post-image mb-05\">\n",
              " <a href=\"https://www.ertnews.gr/roi-idiseon/synedriazei-to-mesimeri-to-ypourgiko-symvoulio-sto-trapezi-oi-ekloges-tis-25is-iouniou/\" style=\"background-image:url('https://www.ertnews.gr/wp-content/uploads/2022/02/maximou00-1-768x512.jpg');\" title=\"Συνεδριάζει το μεσημέρι το Υπουργικό Συμβούλιο – Στο τραπέζι οι εκλογές της 25ης Ιουνίου\"></a>\n",
              " </div>\n",
              " <div class=\"post-content\">\n",
              " <div class=\"post-title h4 m-0\">\n",
              " <a href=\"https://www.ertnews.gr/roi-idiseon/synedriazei-to-mesimeri-to-ypourgiko-symvoulio-sto-trapezi-oi-ekloges-tis-25is-iouniou/\" title=\"Συνεδριάζει το μεσημέρι το Υπουργικό Συμβούλιο – Στο τραπέζι οι εκλογές της 25ης Ιουνίου\">Συνεδριάζει το μεσημέρι το Υπουργικό Συμβούλιο – Στο τραπέζι οι εκλογές της 25ης Ιουνίου</a>\n",
              " </div>\n",
              " <small class=\"post-info row wrap\">\n",
              " <time class=\"entry-date published mute-text\" datetime=\"2023-05-27T12:30:38+03:00\" itemprop=\"datePublished\">27/05 12:30 μμ</time>\n",
              " </small>\n",
              " </div>\n",
              " </article>,\n",
              " <article class=\"item post-thumb post\" id=\"post-3661446\">\n",
              " <div class=\"post-image mb-05\">\n",
              " <a href=\"https://www.ertnews.gr/roi-idiseon/ti-vouleytiki-edra-tis-fthiotidas-tha-kratisei-o-gg-tis-ke-tou-kke-dimitris-koutsoumpas/\" style=\"background-image:url('https://www.ertnews.gr/wp-content/uploads/2023/05/koutsoybas-768x512.jpg');\" title=\"Τη βουλευτική έδρα της Φθιώτιδας θα κρατήσει ο ΓΓ της ΚΕ του ΚΚΕ, Δημήτρης Κουτσούμπας\"></a>\n",
              " </div>\n",
              " <div class=\"post-content\">\n",
              " <div class=\"post-title h4 m-0\">\n",
              " <a href=\"https://www.ertnews.gr/roi-idiseon/ti-vouleytiki-edra-tis-fthiotidas-tha-kratisei-o-gg-tis-ke-tou-kke-dimitris-koutsoumpas/\" title=\"Τη βουλευτική έδρα της Φθιώτιδας θα κρατήσει ο ΓΓ της ΚΕ του ΚΚΕ, Δημήτρης Κουτσούμπας\">Τη βουλευτική έδρα της Φθιώτιδας θα κρατήσει ο ΓΓ της ΚΕ του ΚΚΕ, Δημήτρης Κουτσούμπας</a>\n",
              " </div>\n",
              " <small class=\"post-info row wrap\">\n",
              " <time class=\"entry-date published mute-text\" datetime=\"2023-05-27T10:42:39+03:00\" itemprop=\"datePublished\">27/05 10:42 πμ</time>\n",
              " </small>\n",
              " </div>\n",
              " </article>,\n",
              " <article class=\"item post-thumb post\" id=\"post-3661387\">\n",
              " <div class=\"post-image mb-05\">\n",
              " <a href=\"https://www.ertnews.gr/roi-idiseon/ekloges-2023-pyretos-syskepseon-kai-periodeion-sti-nd-simera-gnostopoiountai-ta-prosopa-tis-eklogikis-epitropis-tou-syriza/\" style=\"background-image:url('https://www.ertnews.gr/wp-content/uploads/2019/05/tsipras-mitsotakis-ekloges-26-06-768x433.jpg');\" title=\"Εκλογές 2023: Πυρετός συσκέψεων και περιοδειών στη ΝΔ – Σήμερα γνωστοποιούνται τα πρόσωπα της εκλογικής επιτροπής του ΣΥΡΙΖΑ\"></a>\n",
              " </div>\n",
              " <div class=\"post-content\">\n",
              " <div class=\"post-title h4 m-0\">\n",
              " <a href=\"https://www.ertnews.gr/roi-idiseon/ekloges-2023-pyretos-syskepseon-kai-periodeion-sti-nd-simera-gnostopoiountai-ta-prosopa-tis-eklogikis-epitropis-tou-syriza/\" title=\"Εκλογές 2023: Πυρετός συσκέψεων και περιοδειών στη ΝΔ – Σήμερα γνωστοποιούνται τα πρόσωπα της εκλογικής επιτροπής του ΣΥΡΙΖΑ\">Εκλογές 2023: Πυρετός συσκέψεων και περιοδειών στη ΝΔ – Σήμερα γνωστοποιούνται τα πρόσωπα της εκλογικής επιτροπής του ΣΥΡΙΖΑ</a>\n",
              " </div>\n",
              " <small class=\"post-info row wrap\">\n",
              " <time class=\"entry-date published mute-text\" datetime=\"2023-05-27T10:20:51+03:00\" itemprop=\"datePublished\">27/05 10:20 πμ</time>\n",
              " </small>\n",
              " </div>\n",
              " </article>,\n",
              " <article class=\"item post-thumb post\" id=\"post-3661337\">\n",
              " <div class=\"post-image mb-05\">\n",
              " <a href=\"https://www.ertnews.gr/roi-idiseon/akis-skertsos-o-syriza-antidra-stin-itta-oxi-me-perissoteri-dimokratia-alla-me-logokrisia/\" style=\"background-image:url('https://www.ertnews.gr/wp-content/uploads/2023/05/SKERTSOS-2-768x512-1.jpg');\" title=\"Άκης Σκέρτσος: Ο ΣΥΡΙΖΑ αντιδρά στην ήττα όχι με περισσότερη δημοκρατία αλλά με λογοκρισία\"></a>\n",
              " </div>\n",
              " <div class=\"post-content\">\n",
              " <div class=\"post-title h4 m-0\">\n",
              " <a href=\"https://www.ertnews.gr/roi-idiseon/akis-skertsos-o-syriza-antidra-stin-itta-oxi-me-perissoteri-dimokratia-alla-me-logokrisia/\" title=\"Άκης Σκέρτσος: Ο ΣΥΡΙΖΑ αντιδρά στην ήττα όχι με περισσότερη δημοκρατία αλλά με λογοκρισία\">Άκης Σκέρτσος: Ο ΣΥΡΙΖΑ αντιδρά στην ήττα όχι με περισσότερη δημοκρατία αλλά με λογοκρισία</a>\n",
              " </div>\n",
              " <small class=\"post-info row wrap\">\n",
              " <time class=\"entry-date published mute-text\" datetime=\"2023-05-27T09:10:46+03:00\" itemprop=\"datePublished\">27/05 09:10 πμ</time>\n",
              " </small>\n",
              " </div>\n",
              " </article>,\n",
              " <article class=\"item post-thumb post\" id=\"post-3661310\">\n",
              " <div class=\"post-image mb-05\">\n",
              " <a href=\"https://www.ertnews.gr/roi-idiseon/ola-osa-prepei-na-gnorizoume-gia-tis-nees-ekloges-to-mponous-kai-oi-listes/\" style=\"background-image:url('https://www.ertnews.gr/wp-content/uploads/2023/04/element5-digital-T9CXBZLUvic-unsplash-scaled-e1682501014541-768x512.jpg');\" title=\"Όλα όσα πρέπει να γνωρίζουμε για τις νέες εκλογές – Το μπόνους και οι λίστες\"></a>\n",
              " </div>\n",
              " <div class=\"post-content\">\n",
              " <div class=\"post-title h4 m-0\">\n",
              " <a href=\"https://www.ertnews.gr/roi-idiseon/ola-osa-prepei-na-gnorizoume-gia-tis-nees-ekloges-to-mponous-kai-oi-listes/\" title=\"Όλα όσα πρέπει να γνωρίζουμε για τις νέες εκλογές – Το μπόνους και οι λίστες\">Όλα όσα πρέπει να γνωρίζουμε για τις νέες εκλογές – Το μπόνους και οι λίστες</a>\n",
              " </div>\n",
              " <small class=\"post-info row wrap\">\n",
              " <time class=\"entry-date published mute-text\" datetime=\"2023-05-27T08:40:08+03:00\" itemprop=\"datePublished\">27/05 08:40 πμ</time>\n",
              " </small>\n",
              " </div>\n",
              " </article>,\n",
              " <article class=\"item post-thumb post\" id=\"post-3661293\">\n",
              " <div class=\"post-image mb-05\">\n",
              " <a href=\"https://www.ertnews.gr/roi-idiseon/stis-12-30-synedriazei-ek-neou-to-ypiresiako-ypourgiko-symvoulio-tin-kyriaki-sygkroteitai-se-soma-i-nea-vouli/\" style=\"background-image:url('https://www.ertnews.gr/wp-content/uploads/2021/02/5125254-768x512.jpg');\" title=\"Στις 12:30 συνεδριάζει εκ νέου το υπηρεσιακό υπουργικό συμβούλιο  – Την Κυριακή συγκροτείται σε σώμα η νέα Βουλή\"></a>\n",
              " </div>\n",
              " <div class=\"post-content\">\n",
              " <div class=\"post-title h4 m-0\">\n",
              " <a href=\"https://www.ertnews.gr/roi-idiseon/stis-12-30-synedriazei-ek-neou-to-ypiresiako-ypourgiko-symvoulio-tin-kyriaki-sygkroteitai-se-soma-i-nea-vouli/\" title=\"Στις 12:30 συνεδριάζει εκ νέου το υπηρεσιακό υπουργικό συμβούλιο  – Την Κυριακή συγκροτείται σε σώμα η νέα Βουλή\">Στις 12:30 συνεδριάζει εκ νέου το υπηρεσιακό υπουργικό συμβούλιο  – Την Κυριακή συγκροτείται σε σώμα η νέα Βουλή</a>\n",
              " </div>\n",
              " <small class=\"post-info row wrap\">\n",
              " <time class=\"entry-date published mute-text\" datetime=\"2023-05-27T08:12:15+03:00\" itemprop=\"datePublished\">27/05 08:12 πμ</time>\n",
              " </small>\n",
              " </div>\n",
              " </article>]"
            ]
          },
          "metadata": {},
          "execution_count": 34
        }
      ]
    },
    {
      "cell_type": "code",
      "source": [
        "len(doc.find('div', {'class': 'article-list two-columns row wrap start-start'}).find_all('article'))"
      ],
      "metadata": {
        "colab": {
          "base_uri": "https://localhost:8080/"
        },
        "id": "8XC7WJ_gJH20",
        "outputId": "1c2aa96d-00f9-48a5-b423-bf8051b43899"
      },
      "execution_count": 35,
      "outputs": [
        {
          "output_type": "execute_result",
          "data": {
            "text/plain": [
              "8"
            ]
          },
          "metadata": {},
          "execution_count": 35
        }
      ]
    },
    {
      "cell_type": "code",
      "source": [
        "doc.find('div', {'class': 'article-list two-columns row wrap start-start'}).find_all('article')[0]"
      ],
      "metadata": {
        "colab": {
          "base_uri": "https://localhost:8080/"
        },
        "id": "yj1UBg0rMnZx",
        "outputId": "4fd411d1-b47a-499f-aeae-21004bcc19bf"
      },
      "execution_count": 36,
      "outputs": [
        {
          "output_type": "execute_result",
          "data": {
            "text/plain": [
              "<article class=\"item post-thumb post\" id=\"post-3661601\">\n",
              "<div class=\"post-image mb-05\">\n",
              "<a href=\"https://www.ertnews.gr/eidiseis/ellada/politiki/ekloges-2023-ypologiste-monoi-sas-tis-edres-tis-25is-iouniou-to-ertnews-gr-sas-deixnei-ton-tropo/\" style=\"background-image:url('https://www.ertnews.gr/wp-content/uploads/2023/05/COMBO_EDRES_2-768x432.jpg');\" title=\"Εκλογές 2023: Υπολογίστε μόνοι σας τις έδρες της 25ης Ιουνίου – Το ertnews.gr σάς δείχνει τον τρόπο\"></a>\n",
              "</div>\n",
              "<div class=\"post-content\">\n",
              "<div class=\"post-title h4 m-0\">\n",
              "<a href=\"https://www.ertnews.gr/eidiseis/ellada/politiki/ekloges-2023-ypologiste-monoi-sas-tis-edres-tis-25is-iouniou-to-ertnews-gr-sas-deixnei-ton-tropo/\" title=\"Εκλογές 2023: Υπολογίστε μόνοι σας τις έδρες της 25ης Ιουνίου – Το ertnews.gr σάς δείχνει τον τρόπο\">Εκλογές 2023: Υπολογίστε μόνοι σας τις έδρες της 25ης Ιουνίου – Το ertnews.gr σάς δείχνει τον τρόπο</a>\n",
              "</div>\n",
              "<small class=\"post-info row wrap\">\n",
              "<time class=\"entry-date published mute-text\" datetime=\"2023-05-27T12:49:36+03:00\" itemprop=\"datePublished\">27/05 12:49 μμ</time>\n",
              "</small>\n",
              "</div>\n",
              "</article>"
            ]
          },
          "metadata": {},
          "execution_count": 36
        }
      ]
    },
    {
      "cell_type": "code",
      "source": [
        "main_url = 'https://www.ertnews.gr'\n",
        "link = doc.find('div', {'class': 'article-list two-columns row wrap start-start'}).find_all('article')[0].find('a',{'class': 'full-link'})['href']\n",
        "article_link = main_url + link\n",
        "article_link"
      ],
      "metadata": {
        "colab": {
          "base_uri": "https://localhost:8080/",
          "height": 217
        },
        "id": "7SYKvrxFmGLX",
        "outputId": "d0df3ca7-0817-4493-ad80-0e80a17ad443"
      },
      "execution_count": 37,
      "outputs": [
        {
          "output_type": "error",
          "ename": "TypeError",
          "evalue": "ignored",
          "traceback": [
            "\u001b[0;31m---------------------------------------------------------------------------\u001b[0m",
            "\u001b[0;31mTypeError\u001b[0m                                 Traceback (most recent call last)",
            "\u001b[0;32m<ipython-input-37-b760ade60be3>\u001b[0m in \u001b[0;36m<cell line: 2>\u001b[0;34m()\u001b[0m\n\u001b[1;32m      1\u001b[0m \u001b[0mmain_url\u001b[0m \u001b[0;34m=\u001b[0m \u001b[0;34m'https://www.ertnews.gr'\u001b[0m\u001b[0;34m\u001b[0m\u001b[0;34m\u001b[0m\u001b[0m\n\u001b[0;32m----> 2\u001b[0;31m \u001b[0mlink\u001b[0m \u001b[0;34m=\u001b[0m \u001b[0mdoc\u001b[0m\u001b[0;34m.\u001b[0m\u001b[0mfind\u001b[0m\u001b[0;34m(\u001b[0m\u001b[0;34m'div'\u001b[0m\u001b[0;34m,\u001b[0m \u001b[0;34m{\u001b[0m\u001b[0;34m'class'\u001b[0m\u001b[0;34m:\u001b[0m \u001b[0;34m'article-list two-columns row wrap start-start'\u001b[0m\u001b[0;34m}\u001b[0m\u001b[0;34m)\u001b[0m\u001b[0;34m.\u001b[0m\u001b[0mfind_all\u001b[0m\u001b[0;34m(\u001b[0m\u001b[0;34m'article'\u001b[0m\u001b[0;34m)\u001b[0m\u001b[0;34m[\u001b[0m\u001b[0;36m0\u001b[0m\u001b[0;34m]\u001b[0m\u001b[0;34m.\u001b[0m\u001b[0mfind\u001b[0m\u001b[0;34m(\u001b[0m\u001b[0;34m'a'\u001b[0m\u001b[0;34m,\u001b[0m\u001b[0;34m{\u001b[0m\u001b[0;34m'class'\u001b[0m\u001b[0;34m:\u001b[0m \u001b[0;34m'full-link'\u001b[0m\u001b[0;34m}\u001b[0m\u001b[0;34m)\u001b[0m\u001b[0;34m[\u001b[0m\u001b[0;34m'href'\u001b[0m\u001b[0;34m]\u001b[0m\u001b[0;34m\u001b[0m\u001b[0;34m\u001b[0m\u001b[0m\n\u001b[0m\u001b[1;32m      3\u001b[0m \u001b[0marticle_link\u001b[0m \u001b[0;34m=\u001b[0m \u001b[0mmain_url\u001b[0m \u001b[0;34m+\u001b[0m \u001b[0mlink\u001b[0m\u001b[0;34m\u001b[0m\u001b[0;34m\u001b[0m\u001b[0m\n\u001b[1;32m      4\u001b[0m \u001b[0marticle_link\u001b[0m\u001b[0;34m\u001b[0m\u001b[0;34m\u001b[0m\u001b[0m\n",
            "\u001b[0;31mTypeError\u001b[0m: 'NoneType' object is not subscriptable"
          ]
        }
      ]
    },
    {
      "cell_type": "code",
      "source": [
        "time = doc.find('div', {'class': 'article-list two-columns row wrap start-start'}).find_all('article')[0].find('time').text\n",
        "time"
      ],
      "metadata": {
        "id": "gMz43T71Oi5Q",
        "colab": {
          "base_uri": "https://localhost:8080/",
          "height": 35
        },
        "outputId": "5c3c55f8-abe1-4629-be44-bdd3a07f9aa5"
      },
      "execution_count": 38,
      "outputs": [
        {
          "output_type": "execute_result",
          "data": {
            "text/plain": [
              "'27/05 12:49 μμ'"
            ],
            "application/vnd.google.colaboratory.intrinsic+json": {
              "type": "string"
            }
          },
          "metadata": {},
          "execution_count": 38
        }
      ]
    },
    {
      "cell_type": "code",
      "source": [
        "main_url = 'https://www.ertnews.gr'\n",
        "stories_list = []\n",
        "stories = doc.find('div', {'class': 'article-list two-columns row wrap start-start'}).find_all('article')\n",
        "for story in stories:\n",
        "    story_dict = {}\n",
        "    try: \n",
        "      link = story.find('a', {'class': 'full-link'})['href'] \n",
        "      if link.startswith(\"http\"):\n",
        "        story_dict['url'] = link\n",
        "      else:\n",
        "        story_dict['url'] = main_url + link\n",
        "    except: \n",
        "      story_dict['url'] = ''\n",
        "      pass\n",
        "    try:\n",
        "      title = story.find('a', {'class': 'full-link'}).text\n",
        "      story_dict['title'] = title\n",
        "    except:\n",
        "      story_dict['title'] = ''\n",
        "      pass\n",
        "    try:\n",
        "      time = story.find('time').text\n",
        "      story_dict['time'] = time\n",
        "    except:\n",
        "      story_dict['time'] = ''\n",
        "      pass\n",
        "    try:\n",
        "      section = story.find('a', {'class': 'article-list two-columns row wrap start-start'}).text\n",
        "      story_dict['section'] = section\n",
        "    except:\n",
        "      story_dict['section'] = ''\n",
        "      pass\n",
        "    try:\n",
        "      summary = story.find('div', {'class': 'article-list two-columns row wrap start-start'}).text\n",
        "      story_dict['summary'] = summary\n",
        "    except:\n",
        "      story_dict['summary'] = ''\n",
        "      pass\n",
        "    stories_list.append(story_dict)\n",
        "ertnews_df = pd.DataFrame(stories_list)"
      ],
      "metadata": {
        "id": "MR26sn9Vix7X"
      },
      "execution_count": 39,
      "outputs": []
    },
    {
      "cell_type": "code",
      "source": [
        "ertnews_df"
      ],
      "metadata": {
        "colab": {
          "base_uri": "https://localhost:8080/",
          "height": 300
        },
        "id": "HvCFpfP_kDsV",
        "outputId": "a3b6a84e-3685-4506-d227-4a5dd5e4bcc0"
      },
      "execution_count": 40,
      "outputs": [
        {
          "output_type": "execute_result",
          "data": {
            "text/plain": [
              "  url title            time section summary\n",
              "0            27/05 12:49 μμ                \n",
              "1            27/05 12:40 μμ                \n",
              "2            27/05 12:30 μμ                \n",
              "3            27/05 10:42 πμ                \n",
              "4            27/05 10:20 πμ                \n",
              "5            27/05 09:10 πμ                \n",
              "6            27/05 08:40 πμ                \n",
              "7            27/05 08:12 πμ                "
            ],
            "text/html": [
              "\n",
              "  <div id=\"df-34c1b5ef-e000-43eb-9418-1a05f57d128c\">\n",
              "    <div class=\"colab-df-container\">\n",
              "      <div>\n",
              "<style scoped>\n",
              "    .dataframe tbody tr th:only-of-type {\n",
              "        vertical-align: middle;\n",
              "    }\n",
              "\n",
              "    .dataframe tbody tr th {\n",
              "        vertical-align: top;\n",
              "    }\n",
              "\n",
              "    .dataframe thead th {\n",
              "        text-align: right;\n",
              "    }\n",
              "</style>\n",
              "<table border=\"1\" class=\"dataframe\">\n",
              "  <thead>\n",
              "    <tr style=\"text-align: right;\">\n",
              "      <th></th>\n",
              "      <th>url</th>\n",
              "      <th>title</th>\n",
              "      <th>time</th>\n",
              "      <th>section</th>\n",
              "      <th>summary</th>\n",
              "    </tr>\n",
              "  </thead>\n",
              "  <tbody>\n",
              "    <tr>\n",
              "      <th>0</th>\n",
              "      <td></td>\n",
              "      <td></td>\n",
              "      <td>27/05 12:49 μμ</td>\n",
              "      <td></td>\n",
              "      <td></td>\n",
              "    </tr>\n",
              "    <tr>\n",
              "      <th>1</th>\n",
              "      <td></td>\n",
              "      <td></td>\n",
              "      <td>27/05 12:40 μμ</td>\n",
              "      <td></td>\n",
              "      <td></td>\n",
              "    </tr>\n",
              "    <tr>\n",
              "      <th>2</th>\n",
              "      <td></td>\n",
              "      <td></td>\n",
              "      <td>27/05 12:30 μμ</td>\n",
              "      <td></td>\n",
              "      <td></td>\n",
              "    </tr>\n",
              "    <tr>\n",
              "      <th>3</th>\n",
              "      <td></td>\n",
              "      <td></td>\n",
              "      <td>27/05 10:42 πμ</td>\n",
              "      <td></td>\n",
              "      <td></td>\n",
              "    </tr>\n",
              "    <tr>\n",
              "      <th>4</th>\n",
              "      <td></td>\n",
              "      <td></td>\n",
              "      <td>27/05 10:20 πμ</td>\n",
              "      <td></td>\n",
              "      <td></td>\n",
              "    </tr>\n",
              "    <tr>\n",
              "      <th>5</th>\n",
              "      <td></td>\n",
              "      <td></td>\n",
              "      <td>27/05 09:10 πμ</td>\n",
              "      <td></td>\n",
              "      <td></td>\n",
              "    </tr>\n",
              "    <tr>\n",
              "      <th>6</th>\n",
              "      <td></td>\n",
              "      <td></td>\n",
              "      <td>27/05 08:40 πμ</td>\n",
              "      <td></td>\n",
              "      <td></td>\n",
              "    </tr>\n",
              "    <tr>\n",
              "      <th>7</th>\n",
              "      <td></td>\n",
              "      <td></td>\n",
              "      <td>27/05 08:12 πμ</td>\n",
              "      <td></td>\n",
              "      <td></td>\n",
              "    </tr>\n",
              "  </tbody>\n",
              "</table>\n",
              "</div>\n",
              "      <button class=\"colab-df-convert\" onclick=\"convertToInteractive('df-34c1b5ef-e000-43eb-9418-1a05f57d128c')\"\n",
              "              title=\"Convert this dataframe to an interactive table.\"\n",
              "              style=\"display:none;\">\n",
              "        \n",
              "  <svg xmlns=\"http://www.w3.org/2000/svg\" height=\"24px\"viewBox=\"0 0 24 24\"\n",
              "       width=\"24px\">\n",
              "    <path d=\"M0 0h24v24H0V0z\" fill=\"none\"/>\n",
              "    <path d=\"M18.56 5.44l.94 2.06.94-2.06 2.06-.94-2.06-.94-.94-2.06-.94 2.06-2.06.94zm-11 1L8.5 8.5l.94-2.06 2.06-.94-2.06-.94L8.5 2.5l-.94 2.06-2.06.94zm10 10l.94 2.06.94-2.06 2.06-.94-2.06-.94-.94-2.06-.94 2.06-2.06.94z\"/><path d=\"M17.41 7.96l-1.37-1.37c-.4-.4-.92-.59-1.43-.59-.52 0-1.04.2-1.43.59L10.3 9.45l-7.72 7.72c-.78.78-.78 2.05 0 2.83L4 21.41c.39.39.9.59 1.41.59.51 0 1.02-.2 1.41-.59l7.78-7.78 2.81-2.81c.8-.78.8-2.07 0-2.86zM5.41 20L4 18.59l7.72-7.72 1.47 1.35L5.41 20z\"/>\n",
              "  </svg>\n",
              "      </button>\n",
              "      \n",
              "  <style>\n",
              "    .colab-df-container {\n",
              "      display:flex;\n",
              "      flex-wrap:wrap;\n",
              "      gap: 12px;\n",
              "    }\n",
              "\n",
              "    .colab-df-convert {\n",
              "      background-color: #E8F0FE;\n",
              "      border: none;\n",
              "      border-radius: 50%;\n",
              "      cursor: pointer;\n",
              "      display: none;\n",
              "      fill: #1967D2;\n",
              "      height: 32px;\n",
              "      padding: 0 0 0 0;\n",
              "      width: 32px;\n",
              "    }\n",
              "\n",
              "    .colab-df-convert:hover {\n",
              "      background-color: #E2EBFA;\n",
              "      box-shadow: 0px 1px 2px rgba(60, 64, 67, 0.3), 0px 1px 3px 1px rgba(60, 64, 67, 0.15);\n",
              "      fill: #174EA6;\n",
              "    }\n",
              "\n",
              "    [theme=dark] .colab-df-convert {\n",
              "      background-color: #3B4455;\n",
              "      fill: #D2E3FC;\n",
              "    }\n",
              "\n",
              "    [theme=dark] .colab-df-convert:hover {\n",
              "      background-color: #434B5C;\n",
              "      box-shadow: 0px 1px 3px 1px rgba(0, 0, 0, 0.15);\n",
              "      filter: drop-shadow(0px 1px 2px rgba(0, 0, 0, 0.3));\n",
              "      fill: #FFFFFF;\n",
              "    }\n",
              "  </style>\n",
              "\n",
              "      <script>\n",
              "        const buttonEl =\n",
              "          document.querySelector('#df-34c1b5ef-e000-43eb-9418-1a05f57d128c button.colab-df-convert');\n",
              "        buttonEl.style.display =\n",
              "          google.colab.kernel.accessAllowed ? 'block' : 'none';\n",
              "\n",
              "        async function convertToInteractive(key) {\n",
              "          const element = document.querySelector('#df-34c1b5ef-e000-43eb-9418-1a05f57d128c');\n",
              "          const dataTable =\n",
              "            await google.colab.kernel.invokeFunction('convertToInteractive',\n",
              "                                                     [key], {});\n",
              "          if (!dataTable) return;\n",
              "\n",
              "          const docLinkHtml = 'Like what you see? Visit the ' +\n",
              "            '<a target=\"_blank\" href=https://colab.research.google.com/notebooks/data_table.ipynb>data table notebook</a>'\n",
              "            + ' to learn more about interactive tables.';\n",
              "          element.innerHTML = '';\n",
              "          dataTable['output_type'] = 'display_data';\n",
              "          await google.colab.output.renderOutput(dataTable, element);\n",
              "          const docLink = document.createElement('div');\n",
              "          docLink.innerHTML = docLinkHtml;\n",
              "          element.appendChild(docLink);\n",
              "        }\n",
              "      </script>\n",
              "    </div>\n",
              "  </div>\n",
              "  "
            ]
          },
          "metadata": {},
          "execution_count": 40
        }
      ]
    },
    {
      "cell_type": "code",
      "source": [],
      "metadata": {
        "id": "6Chxj_tYkGoq"
      },
      "execution_count": null,
      "outputs": []
    }
  ]
}