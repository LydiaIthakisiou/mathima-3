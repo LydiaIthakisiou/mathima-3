{
  "nbformat": 4,
  "nbformat_minor": 0,
  "metadata": {
    "colab": {
      "provenance": []
    },
    "kernelspec": {
      "name": "python3",
      "display_name": "Python 3"
    },
    "language_info": {
      "name": "python"
    }
  },
  "cells": [
    {
      "cell_type": "code",
      "execution_count": null,
      "metadata": {
        "id": "lhxKnQE1vv2B"
      },
      "outputs": [],
      "source": [
        "import requests\n",
        "from bs4 import BeautifulSoup\n",
        "import pandas as pd"
      ]
    },
    {
      "cell_type": "code",
      "source": [
        "start_url = 'https://www.ethnos.gr/politics'"
      ],
      "metadata": {
        "id": "rsotdY_r-lmj"
      },
      "execution_count": null,
      "outputs": []
    },
    {
      "cell_type": "code",
      "source": [
        "response = requests.get(start_url)\n",
        "doc = BeautifulSoup(response.text, 'html.parser')"
      ],
      "metadata": {
        "id": "8NxfdNyq-6tG"
      },
      "execution_count": null,
      "outputs": []
    },
    {
      "cell_type": "code",
      "source": [
        "doc.find('div', {'class': 'main-content'}).find_all('div')"
      ],
      "metadata": {
        "colab": {
          "base_uri": "https://localhost:8080/"
        },
        "id": "IkmMWc0PI-qU",
        "outputId": "24f7071e-5a36-4ffb-f93a-4b074c781334"
      },
      "execution_count": null,
      "outputs": [
        {
          "output_type": "execute_result",
          "data": {
            "text/plain": [
              "[<div class=\"single-post-container\"><a href=\"/Politics/article/262912/ekloges2023skertsosgiaandroylakhtheleinagineisyrizasththeshtoysyriza\"><img alt=\"\" class=\"lozad single-image\" data-src=\"//cdn.ethnos.gr/imgHandler/400/82f4fc6a-be93-49c8-b3ed-c1bb5100e026.jpg\" src=\"//cdn.ethnos.gr/images/placeholder.jpg\"/></a><div class=\"single-wrapper image\"><div class=\"single-category\"><a href=\"Politics\">Πολιτική</a> | <a href=\"/archive/25-05-2023\">25.05.2023 21:07</a></div><a class=\"single-title\" href=\"/Politics/article/262912/ekloges2023skertsosgiaandroylakhtheleinagineisyrizasththeshtoysyriza\">Σκέρτσος για Ανδρουλάκη: Θέλει να γίνει ΣΥΡΙΖΑ στη θέση του ΣΥΡΙΖΑ</a><a class=\"single-description\" href=\"/Politics/article/262912/ekloges2023skertsosgiaandroylakhtheleinagineisyrizasththeshtoysyriza\"><p>Επίθεση στον πρόεδρο του ΠΑΣΟΚ</p></a></div></div>,\n",
              " <div class=\"single-wrapper image\"><div class=\"single-category\"><a href=\"Politics\">Πολιτική</a> | <a href=\"/archive/25-05-2023\">25.05.2023 21:07</a></div><a class=\"single-title\" href=\"/Politics/article/262912/ekloges2023skertsosgiaandroylakhtheleinagineisyrizasththeshtoysyriza\">Σκέρτσος για Ανδρουλάκη: Θέλει να γίνει ΣΥΡΙΖΑ στη θέση του ΣΥΡΙΖΑ</a><a class=\"single-description\" href=\"/Politics/article/262912/ekloges2023skertsosgiaandroylakhtheleinagineisyrizasththeshtoysyriza\"><p>Επίθεση στον πρόεδρο του ΠΑΣΟΚ</p></a></div>,\n",
              " <div class=\"single-category\"><a href=\"Politics\">Πολιτική</a> | <a href=\"/archive/25-05-2023\">25.05.2023 21:07</a></div>,\n",
              " <div class=\"single-post-container\"><a href=\"/Politics/article/262906/ekloges2023skertsosotsiprasleeiposkaistraboseinaiogialoskaityfloseinaiolaos\"><img alt=\"\" class=\"lozad single-image\" data-src=\"//cdn.ethnos.gr/imgHandler/400/0359be21-3f89-448b-9d43-29ce8327eb95.jpg\" src=\"//cdn.ethnos.gr/images/placeholder.jpg\"/></a><div class=\"single-wrapper image\"><div class=\"single-category\"><a href=\"Politics\">Πολιτική</a> | <a href=\"/archive/25-05-2023\">25.05.2023 20:27</a></div><a class=\"single-title\" href=\"/Politics/article/262906/ekloges2023skertsosotsiprasleeiposkaistraboseinaiogialoskaityfloseinaiolaos\">Σκέρτσος: «Ο Τσίπρας λέει πως “και στραβός είναι ο γιαλός και τυφλός είναι ο λαός”»</a><a class=\"single-description\" href=\"/Politics/article/262906/ekloges2023skertsosotsiprasleeiposkaistraboseinaiogialoskaityfloseinaiolaos\"><p>«Ο κ. Τσίπρας επανέλαβε σε μια ομιλία, όλα όσα έλεγε τέσσερα χρόνια ως αντιπολίτευση και διατυμπάνιζε κατά τη διάρκεια της προεκλογικής περιόδου»</p></a></div></div>,\n",
              " <div class=\"single-wrapper image\"><div class=\"single-category\"><a href=\"Politics\">Πολιτική</a> | <a href=\"/archive/25-05-2023\">25.05.2023 20:27</a></div><a class=\"single-title\" href=\"/Politics/article/262906/ekloges2023skertsosotsiprasleeiposkaistraboseinaiogialoskaityfloseinaiolaos\">Σκέρτσος: «Ο Τσίπρας λέει πως “και στραβός είναι ο γιαλός και τυφλός είναι ο λαός”»</a><a class=\"single-description\" href=\"/Politics/article/262906/ekloges2023skertsosotsiprasleeiposkaistraboseinaiogialoskaityfloseinaiolaos\"><p>«Ο κ. Τσίπρας επανέλαβε σε μια ομιλία, όλα όσα έλεγε τέσσερα χρόνια ως αντιπολίτευση και διατυμπάνιζε κατά τη διάρκεια της προεκλογικής περιόδου»</p></a></div>,\n",
              " <div class=\"single-category\"><a href=\"Politics\">Πολιτική</a> | <a href=\"/archive/25-05-2023\">25.05.2023 20:27</a></div>,\n",
              " <div class=\"single-post-container\"><a href=\"/Politics/article/262901/ekloges2023basilikoshndnikhsekaisynypeythynoieinaiekeinoipoytheoroyneaytoysnikhtesepeidhayxhsantaposostatoys\"><img alt=\"\" class=\"lozad single-image\" data-src=\"//cdn.ethnos.gr/imgHandler/400/38918435-b762-438b-b457-84fe415d29d3.jpg\" src=\"//cdn.ethnos.gr/images/placeholder.jpg\"/></a><div class=\"single-wrapper image\"><div class=\"single-category\"><a href=\"Politics\">Πολιτική</a> | <a href=\"/archive/25-05-2023\">25.05.2023 20:24</a></div><a class=\"single-title\" href=\"/Politics/article/262901/ekloges2023basilikoshndnikhsekaisynypeythynoieinaiekeinoipoytheoroyneaytoysnikhtesepeidhayxhsantaposostatoys\">Βασιλικός: Η ΝΔ νίκησε και συνυπεύθυνοι είναι εκείνοι που θεωρούν εαυτούς νικητές, επειδή αύξησαν τα ποσοστά τους</a><a class=\"single-description\" href=\"/Politics/article/262901/ekloges2023basilikoshndnikhsekaisynypeythynoieinaiekeinoipoytheoroyneaytoysnikhtesepeidhayxhsantaposostatoys\"><p>Η δήλωση του για το αποτέλεσμα των εκλογών </p></a></div></div>,\n",
              " <div class=\"single-wrapper image\"><div class=\"single-category\"><a href=\"Politics\">Πολιτική</a> | <a href=\"/archive/25-05-2023\">25.05.2023 20:24</a></div><a class=\"single-title\" href=\"/Politics/article/262901/ekloges2023basilikoshndnikhsekaisynypeythynoieinaiekeinoipoytheoroyneaytoysnikhtesepeidhayxhsantaposostatoys\">Βασιλικός: Η ΝΔ νίκησε και συνυπεύθυνοι είναι εκείνοι που θεωρούν εαυτούς νικητές, επειδή αύξησαν τα ποσοστά τους</a><a class=\"single-description\" href=\"/Politics/article/262901/ekloges2023basilikoshndnikhsekaisynypeythynoieinaiekeinoipoytheoroyneaytoysnikhtesepeidhayxhsantaposostatoys\"><p>Η δήλωση του για το αποτέλεσμα των εκλογών </p></a></div>,\n",
              " <div class=\"single-category\"><a href=\"Politics\">Πολιτική</a> | <a href=\"/archive/25-05-2023\">25.05.2023 20:24</a></div>,\n",
              " <div class=\"single-post-container\"><a href=\"/Politics/article/262902/sokrathskatsikaspoioseinaioyphresiakosypoyrgospshfiakhsdiakybernhshs\"><img alt=\"\" class=\"lozad single-image\" data-src=\"//cdn.ethnos.gr/imgHandler/400/fbad7306-fc56-4b0f-974b-7b5b12caaa99.jpg\" src=\"//cdn.ethnos.gr/images/placeholder.jpg\"/></a><div class=\"single-wrapper image\"><div class=\"single-category\"><a href=\"Politics\">Πολιτική</a> | <a href=\"/archive/25-05-2023\">25.05.2023 20:07</a></div><a class=\"single-title\" href=\"/Politics/article/262902/sokrathskatsikaspoioseinaioyphresiakosypoyrgospshfiakhsdiakybernhshs\">Ποιος είναι ο υπηρεσιακός υπουργός Ψηφιακής Διακυβέρνησης, Σωκράτης Κάτσικας</a><a class=\"single-description\" href=\"/Politics/article/262902/sokrathskatsikaspoioseinaioyphresiakosypoyrgospshfiakhsdiakybernhshs\"><p>Τα ερευνητικά του ενδιαφέροντα είναι στις περιοχές της ασφάλειας πληροφοριακών και επικοινωνιακών συστημάτων και των εφαρμογών της θεωρίας εκτίμησης</p></a></div></div>,\n",
              " <div class=\"single-wrapper image\"><div class=\"single-category\"><a href=\"Politics\">Πολιτική</a> | <a href=\"/archive/25-05-2023\">25.05.2023 20:07</a></div><a class=\"single-title\" href=\"/Politics/article/262902/sokrathskatsikaspoioseinaioyphresiakosypoyrgospshfiakhsdiakybernhshs\">Ποιος είναι ο υπηρεσιακός υπουργός Ψηφιακής Διακυβέρνησης, Σωκράτης Κάτσικας</a><a class=\"single-description\" href=\"/Politics/article/262902/sokrathskatsikaspoioseinaioyphresiakosypoyrgospshfiakhsdiakybernhshs\"><p>Τα ερευνητικά του ενδιαφέροντα είναι στις περιοχές της ασφάλειας πληροφοριακών και επικοινωνιακών συστημάτων και των εφαρμογών της θεωρίας εκτίμησης</p></a></div>,\n",
              " <div class=\"single-category\"><a href=\"Politics\">Πολιτική</a> | <a href=\"/archive/25-05-2023\">25.05.2023 20:07</a></div>,\n",
              " <div class=\"single-post-container\"><a href=\"/Politics/article/262903/ekloges2023androylakhskamiasygkybernhshmendakomhkaieanthsleipoyn23edres\"><img alt=\"\" class=\"lozad single-image\" data-src=\"//cdn.ethnos.gr/imgHandler/400/e4d04a3c-2c44-418a-81e7-cbd208d085ff.jpg\" src=\"//cdn.ethnos.gr/images/placeholder.jpg\"/></a><div class=\"single-wrapper image\"><div class=\"single-category\"><a href=\"Politics\">Πολιτική</a> | <a href=\"/archive/25-05-2023\">25.05.2023 20:00</a></div><a class=\"single-title\" href=\"/Politics/article/262903/ekloges2023androylakhskamiasygkybernhshmendakomhkaieanthsleipoyn23edres\">Ανδρουλάκης: Καμία συγκυβέρνηση με ΝΔ, ακόμη και εάν της λείπουν 2 – 3 έδρες</a><a class=\"single-description\" href=\"/Politics/article/262903/ekloges2023androylakhskamiasygkybernhshmendakomhkaieanthsleipoyn23edres\"><p>«Στόχος του ΠΑΣΟΚ να γίνει πλειοψηφική δύναμη στον προοδευτικό χώρο»</p></a></div></div>,\n",
              " <div class=\"single-wrapper image\"><div class=\"single-category\"><a href=\"Politics\">Πολιτική</a> | <a href=\"/archive/25-05-2023\">25.05.2023 20:00</a></div><a class=\"single-title\" href=\"/Politics/article/262903/ekloges2023androylakhskamiasygkybernhshmendakomhkaieanthsleipoyn23edres\">Ανδρουλάκης: Καμία συγκυβέρνηση με ΝΔ, ακόμη και εάν της λείπουν 2 – 3 έδρες</a><a class=\"single-description\" href=\"/Politics/article/262903/ekloges2023androylakhskamiasygkybernhshmendakomhkaieanthsleipoyn23edres\"><p>«Στόχος του ΠΑΣΟΚ να γίνει πλειοψηφική δύναμη στον προοδευτικό χώρο»</p></a></div>,\n",
              " <div class=\"single-category\"><a href=\"Politics\">Πολιτική</a> | <a href=\"/archive/25-05-2023\">25.05.2023 20:00</a></div>,\n",
              " <div class=\"adv-section mb-5\"><div data-ocm-ad=\"\" id=\"ros_sidebar_2\"></div></div>,\n",
              " <div data-ocm-ad=\"\" id=\"ros_sidebar_2\"></div>,\n",
              " <div class=\"single-post-container\"></div>,\n",
              " <div id=\"post-loader\"><div class=\"spinner-grow text-primary\" role=\"status\"><span class=\"sr-only\">Loading...</span></div></div>,\n",
              " <div class=\"spinner-grow text-primary\" role=\"status\"><span class=\"sr-only\">Loading...</span></div>]"
            ]
          },
          "metadata": {},
          "execution_count": 79
        }
      ]
    },
    {
      "cell_type": "code",
      "source": [
        "len(doc.find('div', {'class': 'main-content'}).find_all('div'))"
      ],
      "metadata": {
        "colab": {
          "base_uri": "https://localhost:8080/"
        },
        "id": "8XC7WJ_gJH20",
        "outputId": "ef754e1e-668e-4a0b-c8f2-23a0b812bfe6"
      },
      "execution_count": null,
      "outputs": [
        {
          "output_type": "execute_result",
          "data": {
            "text/plain": [
              "20"
            ]
          },
          "metadata": {},
          "execution_count": 80
        }
      ]
    },
    {
      "cell_type": "code",
      "source": [
        "doc.find('div', {'class': 'main-content'}).find_all('div')[0]"
      ],
      "metadata": {
        "colab": {
          "base_uri": "https://localhost:8080/"
        },
        "id": "yj1UBg0rMnZx",
        "outputId": "6864719f-47f6-4566-9773-866714eaf2fd"
      },
      "execution_count": null,
      "outputs": [
        {
          "output_type": "execute_result",
          "data": {
            "text/plain": [
              "<div class=\"single-post-container\"><a href=\"/Politics/article/262912/ekloges2023skertsosgiaandroylakhtheleinagineisyrizasththeshtoysyriza\"><img alt=\"\" class=\"lozad single-image\" data-src=\"//cdn.ethnos.gr/imgHandler/400/82f4fc6a-be93-49c8-b3ed-c1bb5100e026.jpg\" src=\"//cdn.ethnos.gr/images/placeholder.jpg\"/></a><div class=\"single-wrapper image\"><div class=\"single-category\"><a href=\"Politics\">Πολιτική</a> | <a href=\"/archive/25-05-2023\">25.05.2023 21:07</a></div><a class=\"single-title\" href=\"/Politics/article/262912/ekloges2023skertsosgiaandroylakhtheleinagineisyrizasththeshtoysyriza\">Σκέρτσος για Ανδρουλάκη: Θέλει να γίνει ΣΥΡΙΖΑ στη θέση του ΣΥΡΙΖΑ</a><a class=\"single-description\" href=\"/Politics/article/262912/ekloges2023skertsosgiaandroylakhtheleinagineisyrizasththeshtoysyriza\"><p>Επίθεση στον πρόεδρο του ΠΑΣΟΚ</p></a></div></div>"
            ]
          },
          "metadata": {},
          "execution_count": 81
        }
      ]
    },
    {
      "cell_type": "code",
      "source": [],
      "metadata": {
        "id": "gMz43T71Oi5Q"
      },
      "execution_count": null,
      "outputs": []
    }
  ]
}